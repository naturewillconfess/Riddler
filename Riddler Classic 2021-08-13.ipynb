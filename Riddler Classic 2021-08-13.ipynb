{
 "cells": [
  {
   "cell_type": "code",
   "execution_count": 1,
   "metadata": {},
   "outputs": [],
   "source": [
    "from random import randint\n",
    "#some helper functions\n",
    "#roll M-sided dice\n",
    "def roll(M):\n",
    "    return randint(1,M)\n",
    "\n",
    "#Sort the outcomes of d throws of M-sided dice\n",
    "def sorted_rolls(d, M):\n",
    "    return sorted([roll(M) for x in range(d)], reverse = True)\n",
    "\n",
    "#get sample average of a function over n executions\n",
    "def EV(*args, n, fun):\n",
    "    res = [fun(*args) for i in range(n)]\n",
    "    return 1.0 * sum(res)/len(res)"
   ]
  },
  {
   "cell_type": "markdown",
   "metadata": {},
   "source": [
    "The problem at hand is a dynamic programming one: Every throw you choose how many dice to freeze, and depending on that you get some points and replay the game with fewer dice. So all I need is to find the formula that connects expected payoff of the game with the expected payoffs of games with fewer dice. Here it is:"
   ]
  },
  {
   "cell_type": "code",
   "execution_count": 2,
   "metadata": {},
   "outputs": [],
   "source": [
    "def game_step(F, N, M):\n",
    "    L = sorted_rolls(N, M)\n",
    "    return max([sum(L[0:d]) + F[N-d] for d in range(1,N+1)])"
   ]
  },
  {
   "cell_type": "markdown",
   "metadata": {},
   "source": [
    "Where F is a vector of sorted rolls, N is the number of dice in the current round, and M is the number of sides on your dice.\n",
    "To translate from code into English, every round you choose to freeze N dice, and your payoff is N highest dice you got plus the expected payoff of a game with N less dice. Going from 0-dice games upward, we can easily estimate the expected payoff for each N."
   ]
  },
  {
   "cell_type": "code",
   "execution_count": 3,
   "metadata": {},
   "outputs": [],
   "source": [
    "#Execute the strategy for all N\n",
    "def roll_and_keep(N, M, n):\n",
    "    F = [0] * N\n",
    "    F[1] = EV(M, n = n, fun = roll) \n",
    "    for i in range(2, N):\n",
    "        F[i] = EV(F, i, M, n = n, fun = game_step)\n",
    "    return [round(f,2) for f in F]"
   ]
  },
  {
   "cell_type": "code",
   "execution_count": 4,
   "metadata": {},
   "outputs": [
    {
     "data": {
      "text/plain": [
       "[0, 3.5, 8.24, 13.43, 18.84, 24.44, 30.15, 35.95, 41.81, 47.71]"
      ]
     },
     "execution_count": 4,
     "metadata": {},
     "output_type": "execute_result"
    }
   ],
   "source": [
    "roll_and_keep(10, 6, 1000000)"
   ]
  },
  {
   "cell_type": "markdown",
   "metadata": {},
   "source": [
    "Average payoff for N = 4 is 18.84, 24.44 for N = 5, 30.15 for N = 6, etc."
   ]
  }
 ],
 "metadata": {
  "kernelspec": {
   "display_name": "Python 3",
   "language": "python",
   "name": "python3"
  },
  "language_info": {
   "codemirror_mode": {
    "name": "ipython",
    "version": 3
   },
   "file_extension": ".py",
   "mimetype": "text/x-python",
   "name": "python",
   "nbconvert_exporter": "python",
   "pygments_lexer": "ipython3",
   "version": "3.7.4"
  }
 },
 "nbformat": 4,
 "nbformat_minor": 4
}
