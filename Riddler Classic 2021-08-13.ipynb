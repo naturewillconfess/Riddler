{
 "cells": [
  {
   "cell_type": "code",
   "execution_count": 1,
   "metadata": {
    "ExecuteTime": {
     "end_time": "2021-08-16T22:33:57.313698Z",
     "start_time": "2021-08-16T22:33:57.118698Z"
    }
   },
   "outputs": [],
   "source": [
    "from random import randint\n",
    "from matplotlib import pyplot as plt\n",
    "#some helper functions\n",
    "#roll M-sided dice\n",
    "def roll(M):\n",
    "    return randint(1,M)\n",
    "\n",
    "#Sort the outcomes of d throws of M-sided dice\n",
    "def sorted_rolls(d, M):\n",
    "    return sorted([roll(M) for x in range(d)], reverse = True)\n",
    "\n",
    "#get sample average of a function over n executions\n",
    "def EV(*args, n, fun):\n",
    "    res = [fun(*args) for i in range(n)]\n",
    "    return 1.0 * sum(res)/len(res)"
   ]
  },
  {
   "cell_type": "markdown",
   "metadata": {},
   "source": [
    "The problem at hand is a dynamic programming one: Every throw you choose how many dice to freeze, and depending on that you get some points and replay the game with fewer dice. So all I need is to find the formula that connects expected payoff of the game with the expected payoffs of games with fewer dice. Here it is:"
   ]
  },
  {
   "cell_type": "code",
   "execution_count": 2,
   "metadata": {
    "ExecuteTime": {
     "end_time": "2021-08-16T22:33:58.190858Z",
     "start_time": "2021-08-16T22:33:58.174139Z"
    }
   },
   "outputs": [],
   "source": [
    "def game_step(F, N, M):\n",
    "    L = sorted_rolls(N, M)\n",
    "    return max([sum(L[0:d]) + F[N-d] for d in range(1,N+1)])"
   ]
  },
  {
   "cell_type": "markdown",
   "metadata": {},
   "source": [
    "Where F is a vector of sorted rolls, N is the number of dice in the current round, and M is the number of sides on your dice.\n",
    "To translate from code into English, every round you choose to freeze N dice, and your payoff is N highest dice you got plus the expected payoff of a game with N less dice. Going from 0-dice games upward, we can easily estimate the expected payoff for each N."
   ]
  },
  {
   "cell_type": "code",
   "execution_count": 3,
   "metadata": {
    "ExecuteTime": {
     "end_time": "2021-08-16T22:33:59.070231Z",
     "start_time": "2021-08-16T22:33:59.058231Z"
    }
   },
   "outputs": [],
   "source": [
    "#Execute the strategy for all N\n",
    "def roll_and_keep(N, M, n):\n",
    "    F = [0] * (N+1)\n",
    "    F[1] = EV(M, n = n, fun = roll) \n",
    "    for i in range(2, N+1):\n",
    "        F[i] = EV(F, i, M, n = n, fun = game_step)\n",
    "    return [round(f,2) for f in F]"
   ]
  },
  {
   "cell_type": "code",
   "execution_count": 4,
   "metadata": {
    "ExecuteTime": {
     "end_time": "2021-08-16T22:35:17.353218Z",
     "start_time": "2021-08-16T22:34:00.217219Z"
    }
   },
   "outputs": [],
   "source": [
    "F = roll_and_keep(10, 6, 1000000)"
   ]
  },
  {
   "cell_type": "code",
   "execution_count": 5,
   "metadata": {
    "ExecuteTime": {
     "end_time": "2021-08-16T22:35:17.369219Z",
     "start_time": "2021-08-16T22:35:17.354216Z"
    }
   },
   "outputs": [
    {
     "name": "stdout",
     "output_type": "stream",
     "text": [
      "[0, 3.5, 8.24, 13.43, 18.85, 24.44, 30.16, 35.96, 41.82, 47.71, 53.64]\n"
     ]
    }
   ],
   "source": [
    "print(F)"
   ]
  },
  {
   "cell_type": "markdown",
   "metadata": {
    "variables": {
     "F[4]": "18.85",
     "F[5]": "24.44",
     "F[6]": "30.16"
    }
   },
   "source": [
    "Average payoff for N = 4 is {{F[4]}}, {{F[5]}} for N = 5, {{F[6]}} for N = 6, etc."
   ]
  },
  {
   "cell_type": "markdown",
   "metadata": {},
   "source": [
    "What's interesting (albeit intuitive) is that the more dice you have, the more value you can squeeze out of each dice with the roll-and-keep mechanic. And you approach the average of 6 points per dice really, really quickly!"
   ]
  },
  {
   "cell_type": "code",
   "execution_count": 8,
   "metadata": {
    "ExecuteTime": {
     "end_time": "2021-08-16T22:44:03.168451Z",
     "start_time": "2021-08-16T22:42:47.855453Z"
    }
   },
   "outputs": [
    {
     "data": {
      "image/png": "[encoded data removed]",
      "text/plain": [
       "<Figure size 432x288 with 1 Axes>"
      ]
     },
     "metadata": {
      "needs_background": "light"
     },
     "output_type": "display_data"
    }
   ],
   "source": [
    "n = 100\n",
    "rk = roll_and_keep(n, 6, 10000)\n",
    "r = [3.5 for i in range(n+1)]\n",
    "rk = [1.0*x/y for x,y in zip(rk[1:], range(1,n+1))]\n",
    "\n",
    "plt.plot(range(1,n+1), rk)\n",
    "plt.plot(range(1,n+1), r[1:])\n",
    "plt.show()"
   ]
  },
  {
   "cell_type": "markdown",
   "metadata": {
    "ExecuteTime": {
     "end_time": "2021-08-16T20:51:57.434168Z",
     "start_time": "2021-08-16T20:51:57.429168Z"
    },
    "variables": {
     "round(rk[9],2)": "5.36"
    }
   },
   "source": [
    "Even at 10 dice you're already getting {{round(rk[9],2)}} points per dice as opposed to the average 3.5 points you get with regular rolls!"
   ]
  },
  {
   "cell_type": "markdown",
   "metadata": {},
   "source": [
    "P.S. For analytical solution, start with this derivation of the pmf for what I called the best_rolls function - https://www.physicsforums.com/threads/puzzling-roll-x-dice-choose-y-highest-problem.418161/#post-2813034. I didn't even try to simplify our recurrent formula using this result, because it's way too messy."
   ]
  }
 ],
 "metadata": {
  "kernelspec": {
   "display_name": "Python 3",
   "language": "python",
   "name": "python3"
  },
  "language_info": {
   "codemirror_mode": {
    "name": "ipython",
    "version": 3
   },
   "file_extension": ".py",
   "mimetype": "text/x-python",
   "name": "python",
   "nbconvert_exporter": "python",
   "pygments_lexer": "ipython3",
   "version": "3.7.4"
  }
 },
 "nbformat": 4,
 "nbformat_minor": 4
}
